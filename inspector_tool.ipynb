
{
 "cells": [
  {
   "cell_type": "markdown",
   "id": "4383eb5d",
   "metadata": {},
   "source": [
    "![Saudia XYZ logo](http://alasmari.net/saudia-logo.png)\n",
    "***Code:*** inspector tool <br>\n",
    "***Main Source:*** Geemap <br>\n",
    "***Edited by:*** Saudia.xyz"
   ]
  },
  {
   "cell_type": "code",
   "execution_count": 1,
   "id": "bf7044ee",
   "metadata": {},
   "outputs": [],
   "source": [
    "# !pip install geemap"
   ]
  },
  {
   "cell_type": "code",
   "execution_count": 2,
   "id": "86e024df",
   "metadata": {},
   "outputs": [],
   "source": [
    "import ee\n",
    "import geemap"
   ]
  },
  {
   "cell_type": "code",
   "execution_count": 3,
   "id": "e32b268b",
   "metadata": {},
   "outputs": [],
   "source": [
    "Map = geemap.Map(center=(24, 45), zoom=5)"
   ]
  },
  {
   "cell_type": "code",
   "execution_count": 4,
   "id": "741618b0",
   "metadata": {},
   "outputs": [
    {
     "data": {
      "application/vnd.jupyter.widget-view+json": {
       "model_id": "d30b4b9cde384e0b82d1246521f43267",
       "version_major": 2,
       "version_minor": 0
      },
      "text/plain": [
       "Map(center=[24, 45], controls=(WidgetControl(options=['position', 'transparent_bg'], widget=HBox(children=(Tog…"
      ]
     },
     "metadata": {},
     "output_type": "display_data"
    }
   ],
   "source": [
    "# Add Earth Engine dataset\n",
    "dem = ee.Image('USGS/SRTMGL1_003')\n",
    "landcover = ee.Image(\"ESA/GLOBCOVER_L4_200901_200912_V2_3\").select('landcover')\n",
    "landsat7 = ee.Image('LE7_TOA_5YEAR/1999_2003').select(['B1', 'B2', 'B3', 'B4', 'B5', 'B7'])\n",
    "\n",
    "# Set visualization parameters.\n",
    "vis_params = {\n",
    "  'min': 0,\n",
    "  'max': 4000,\n",
    "  'palette': ['006633', 'E5FFCC', '662A00', 'D8D8D8', 'F5F5F5']}\n",
    "\n",
    "# Add Earth Eninge layers to Map\n",
    "Map.addLayer(dem, vis_params, 'SRTM DEM', True, 0.5)\n",
    "Map.addLayer(landcover, {}, 'Land cover')\n",
    "Map.addLayer(landsat7, {'bands': ['B4', 'B3', 'B2'], 'min': 20, 'max': 200, 'gamma': 2.0}, 'Landsat 7')\n",
    "\n",
    "Map"
   ]
  },
  {
   "cell_type": "code",
   "execution_count": null,
   "id": "796b4954",
   "metadata": {},
   "outputs": [],
   "source": []
  }
 ],
 "metadata": {
  "kernelspec": {
   "display_name": "Python 3 (ipykernel)",
   "language": "python",
   "name": "python3"
  },
  "language_info": {
   "codemirror_mode": {
    "name": "ipython",
    "version": 3
   },
   "file_extension": ".py",
   "mimetype": "text/x-python",
   "name": "python",
   "nbconvert_exporter": "python",
   "pygments_lexer": "ipython3",
   "version": "3.9.4"
  }
 },
 "nbformat": 4,
 "nbformat_minor": 5
}
